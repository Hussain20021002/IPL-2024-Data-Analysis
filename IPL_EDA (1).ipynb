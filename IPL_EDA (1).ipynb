{
 "cells": [
  {
   "cell_type": "code",
   "execution_count": 1,
   "id": "9ae4bb7b-7c21-463f-a0b4-379de51340ca",
   "metadata": {
    "tags": []
   },
   "outputs": [],
   "source": [
    "import pandas as pd\n",
    "import numpy as np\n",
    "import matplotlib.pyplot as plt\n",
    "import seaborn as sns\n"
   ]
  },
  {
   "cell_type": "code",
   "execution_count": 2,
   "id": "81feffee-3f86-4f36-bc0f-bdf532387f80",
   "metadata": {
    "tags": []
   },
   "outputs": [],
   "source": [
    "df_players = pd.read_csv('D:\\\\Datasets and projects\\\\IPL 2024 dataset\\\\IPL_PLAYERS.csv')"
   ]
  },
  {
   "cell_type": "code",
   "execution_count": 3,
   "id": "cb34a3b4-1065-4c1d-82f9-65d393a2acb4",
   "metadata": {
    "tags": []
   },
   "outputs": [
    {
     "data": {
      "text/html": [
       "<div>\n",
       "<style scoped>\n",
       "    .dataframe tbody tr th:only-of-type {\n",
       "        vertical-align: middle;\n",
       "    }\n",
       "\n",
       "    .dataframe tbody tr th {\n",
       "        vertical-align: top;\n",
       "    }\n",
       "\n",
       "    .dataframe thead th {\n",
       "        text-align: right;\n",
       "    }\n",
       "</style>\n",
       "<table border=\"1\" class=\"dataframe\">\n",
       "  <thead>\n",
       "    <tr style=\"text-align: right;\">\n",
       "      <th></th>\n",
       "      <th>PLAYERS</th>\n",
       "      <th>NATIONALITY</th>\n",
       "      <th>TYPE</th>\n",
       "      <th>PRICE PAID</th>\n",
       "      <th>TEAM</th>\n",
       "    </tr>\n",
       "  </thead>\n",
       "  <tbody>\n",
       "    <tr>\n",
       "      <th>0</th>\n",
       "      <td>Avanish Rao Aravelly</td>\n",
       "      <td>Indian</td>\n",
       "      <td>Wicket-Keeper</td>\n",
       "      <td>2000000</td>\n",
       "      <td>CSK</td>\n",
       "    </tr>\n",
       "    <tr>\n",
       "      <th>1</th>\n",
       "      <td>Mustafizur Rahman</td>\n",
       "      <td>Overseas</td>\n",
       "      <td>Bowler</td>\n",
       "      <td>20000000</td>\n",
       "      <td>CSK</td>\n",
       "    </tr>\n",
       "    <tr>\n",
       "      <th>2</th>\n",
       "      <td>Daryl Mitchell</td>\n",
       "      <td>Overseas</td>\n",
       "      <td>All-Rounder</td>\n",
       "      <td>140000000</td>\n",
       "      <td>CSK</td>\n",
       "    </tr>\n",
       "    <tr>\n",
       "      <th>3</th>\n",
       "      <td>Sameer Rizvi</td>\n",
       "      <td>Indian</td>\n",
       "      <td>Batter</td>\n",
       "      <td>84000000</td>\n",
       "      <td>CSK</td>\n",
       "    </tr>\n",
       "    <tr>\n",
       "      <th>4</th>\n",
       "      <td>Rachin Ravindra</td>\n",
       "      <td>Overseas</td>\n",
       "      <td>All-Rounder</td>\n",
       "      <td>18000000</td>\n",
       "      <td>CSK</td>\n",
       "    </tr>\n",
       "    <tr>\n",
       "      <th>5</th>\n",
       "      <td>Shardul Thakur</td>\n",
       "      <td>Indian</td>\n",
       "      <td>All-Rounder</td>\n",
       "      <td>40000000</td>\n",
       "      <td>CSK</td>\n",
       "    </tr>\n",
       "    <tr>\n",
       "      <th>6</th>\n",
       "      <td>Ricky Bhui</td>\n",
       "      <td>Indian</td>\n",
       "      <td>Wicket-Keeper</td>\n",
       "      <td>2000000</td>\n",
       "      <td>DC</td>\n",
       "    </tr>\n",
       "    <tr>\n",
       "      <th>7</th>\n",
       "      <td>Sumit Kumar</td>\n",
       "      <td>Indian</td>\n",
       "      <td>All-Rounder</td>\n",
       "      <td>10000000</td>\n",
       "      <td>DC</td>\n",
       "    </tr>\n",
       "    <tr>\n",
       "      <th>8</th>\n",
       "      <td>Swastik Chhikara</td>\n",
       "      <td>Indian</td>\n",
       "      <td>Batter</td>\n",
       "      <td>2000000</td>\n",
       "      <td>DC</td>\n",
       "    </tr>\n",
       "    <tr>\n",
       "      <th>9</th>\n",
       "      <td>Jhye Richardson</td>\n",
       "      <td>Overseas</td>\n",
       "      <td>Bowler</td>\n",
       "      <td>50000000</td>\n",
       "      <td>DC</td>\n",
       "    </tr>\n",
       "  </tbody>\n",
       "</table>\n",
       "</div>"
      ],
      "text/plain": [
       "                PLAYERS NATIONALITY           TYPE  PRICE PAID TEAM\n",
       "0  Avanish Rao Aravelly      Indian  Wicket-Keeper     2000000  CSK\n",
       "1     Mustafizur Rahman    Overseas         Bowler    20000000  CSK\n",
       "2        Daryl Mitchell    Overseas    All-Rounder   140000000  CSK\n",
       "3          Sameer Rizvi      Indian         Batter    84000000  CSK\n",
       "4       Rachin Ravindra    Overseas    All-Rounder    18000000  CSK\n",
       "5        Shardul Thakur      Indian    All-Rounder    40000000  CSK\n",
       "6            Ricky Bhui      Indian  Wicket-Keeper     2000000   DC\n",
       "7           Sumit Kumar      Indian    All-Rounder    10000000   DC\n",
       "8      Swastik Chhikara      Indian         Batter     2000000   DC\n",
       "9       Jhye Richardson    Overseas         Bowler    50000000   DC"
      ]
     },
     "execution_count": 3,
     "metadata": {},
     "output_type": "execute_result"
    }
   ],
   "source": [
    "df_players.head(10)"
   ]
  },
  {
   "cell_type": "code",
   "execution_count": 4,
   "id": "38afa646-b71a-4e04-8d87-3631e2e6542b",
   "metadata": {
    "tags": []
   },
   "outputs": [
    {
     "data": {
      "text/html": [
       "<div>\n",
       "<style scoped>\n",
       "    .dataframe tbody tr th:only-of-type {\n",
       "        vertical-align: middle;\n",
       "    }\n",
       "\n",
       "    .dataframe tbody tr th {\n",
       "        vertical-align: top;\n",
       "    }\n",
       "\n",
       "    .dataframe thead th {\n",
       "        text-align: right;\n",
       "    }\n",
       "</style>\n",
       "<table border=\"1\" class=\"dataframe\">\n",
       "  <thead>\n",
       "    <tr style=\"text-align: right;\">\n",
       "      <th></th>\n",
       "      <th>PRICE PAID</th>\n",
       "    </tr>\n",
       "  </thead>\n",
       "  <tbody>\n",
       "    <tr>\n",
       "      <th>count</th>\n",
       "      <td>7.200000e+01</td>\n",
       "    </tr>\n",
       "    <tr>\n",
       "      <th>mean</th>\n",
       "      <td>3.200694e+07</td>\n",
       "    </tr>\n",
       "    <tr>\n",
       "      <th>std</th>\n",
       "      <td>4.659788e+07</td>\n",
       "    </tr>\n",
       "    <tr>\n",
       "      <th>min</th>\n",
       "      <td>2.000000e+06</td>\n",
       "    </tr>\n",
       "    <tr>\n",
       "      <th>25%</th>\n",
       "      <td>2.000000e+06</td>\n",
       "    </tr>\n",
       "    <tr>\n",
       "      <th>50%</th>\n",
       "      <td>1.250000e+07</td>\n",
       "    </tr>\n",
       "    <tr>\n",
       "      <th>75%</th>\n",
       "      <td>4.850000e+07</td>\n",
       "    </tr>\n",
       "    <tr>\n",
       "      <th>max</th>\n",
       "      <td>2.475000e+08</td>\n",
       "    </tr>\n",
       "  </tbody>\n",
       "</table>\n",
       "</div>"
      ],
      "text/plain": [
       "         PRICE PAID\n",
       "count  7.200000e+01\n",
       "mean   3.200694e+07\n",
       "std    4.659788e+07\n",
       "min    2.000000e+06\n",
       "25%    2.000000e+06\n",
       "50%    1.250000e+07\n",
       "75%    4.850000e+07\n",
       "max    2.475000e+08"
      ]
     },
     "execution_count": 4,
     "metadata": {},
     "output_type": "execute_result"
    }
   ],
   "source": [
    "df_players.describe()"
   ]
  },
  {
   "cell_type": "code",
   "execution_count": 5,
   "id": "e782f21b-9c13-4c14-964e-30440d0eb3fd",
   "metadata": {
    "tags": []
   },
   "outputs": [
    {
     "data": {
      "text/html": [
       "<div>\n",
       "<style scoped>\n",
       "    .dataframe tbody tr th:only-of-type {\n",
       "        vertical-align: middle;\n",
       "    }\n",
       "\n",
       "    .dataframe tbody tr th {\n",
       "        vertical-align: top;\n",
       "    }\n",
       "\n",
       "    .dataframe thead th {\n",
       "        text-align: right;\n",
       "    }\n",
       "</style>\n",
       "<table border=\"1\" class=\"dataframe\">\n",
       "  <thead>\n",
       "    <tr style=\"text-align: right;\">\n",
       "      <th></th>\n",
       "      <th>PLAYERS</th>\n",
       "      <th>NATIONALITY</th>\n",
       "      <th>TYPE</th>\n",
       "      <th>PRICE PAID</th>\n",
       "      <th>TEAM</th>\n",
       "    </tr>\n",
       "  </thead>\n",
       "  <tbody>\n",
       "    <tr>\n",
       "      <th>67</th>\n",
       "      <td>Akash Singh</td>\n",
       "      <td>Indian</td>\n",
       "      <td>Bowler</td>\n",
       "      <td>2000000</td>\n",
       "      <td>SH</td>\n",
       "    </tr>\n",
       "    <tr>\n",
       "      <th>68</th>\n",
       "      <td>Jaydev Unadkat</td>\n",
       "      <td>Indian</td>\n",
       "      <td>Bowler</td>\n",
       "      <td>16000000</td>\n",
       "      <td>SH</td>\n",
       "    </tr>\n",
       "    <tr>\n",
       "      <th>69</th>\n",
       "      <td>Wanindu Hasaranga</td>\n",
       "      <td>Overseas</td>\n",
       "      <td>All-Rounder</td>\n",
       "      <td>15000000</td>\n",
       "      <td>SH</td>\n",
       "    </tr>\n",
       "    <tr>\n",
       "      <th>70</th>\n",
       "      <td>Pat Cummins</td>\n",
       "      <td>Overseas</td>\n",
       "      <td>All-Rounder</td>\n",
       "      <td>205000000</td>\n",
       "      <td>SH</td>\n",
       "    </tr>\n",
       "    <tr>\n",
       "      <th>71</th>\n",
       "      <td>Travis Head</td>\n",
       "      <td>Overseas</td>\n",
       "      <td>Batter</td>\n",
       "      <td>68000000</td>\n",
       "      <td>SH</td>\n",
       "    </tr>\n",
       "  </tbody>\n",
       "</table>\n",
       "</div>"
      ],
      "text/plain": [
       "              PLAYERS NATIONALITY         TYPE  PRICE PAID TEAM\n",
       "67        Akash Singh      Indian       Bowler     2000000   SH\n",
       "68     Jaydev Unadkat      Indian       Bowler    16000000   SH\n",
       "69  Wanindu Hasaranga    Overseas  All-Rounder    15000000   SH\n",
       "70        Pat Cummins    Overseas  All-Rounder   205000000   SH\n",
       "71        Travis Head    Overseas       Batter    68000000   SH"
      ]
     },
     "execution_count": 5,
     "metadata": {},
     "output_type": "execute_result"
    }
   ],
   "source": [
    "df_players.tail()\n"
   ]
  },
  {
   "cell_type": "code",
   "execution_count": 6,
   "id": "a8feca82-d87d-4563-b4b7-6708331daddb",
   "metadata": {
    "tags": []
   },
   "outputs": [],
   "source": [
    "top_5_paid_players = df_players.sort_values(by=\"PRICE PAID\", ascending=False).head(5)"
   ]
  },
  {
   "cell_type": "code",
   "execution_count": 7,
   "id": "6018725d-9492-419b-9e7e-2063e2215788",
   "metadata": {
    "tags": []
   },
   "outputs": [
    {
     "name": "stdout",
     "output_type": "stream",
     "text": [
      "           PLAYERS NATIONALITY         TYPE  PRICE PAID TEAM\n",
      "27  Mitchell Starc    Overseas       Bowler   247500000  KKR\n",
      "70     Pat Cummins    Overseas  All-Rounder   205000000   SH\n",
      "2   Daryl Mitchell    Overseas  All-Rounder   140000000  CSK\n",
      "54   Harshal Patel      Indian  All-Rounder   117500000   PK\n",
      "63  Alzarri Joseph    Overseas       Bowler   115000000  RCB\n"
     ]
    }
   ],
   "source": [
    "print (top_5_paid_players)"
   ]
  },
  {
   "cell_type": "code",
   "execution_count": 8,
   "id": "8d6dcc1b-ee67-40b5-8f7b-7243bd0dec1b",
   "metadata": {
    "tags": []
   },
   "outputs": [
    {
     "data": {
      "image/png": "[encoded data removed]",
      "text/plain": [
       "<Figure size 1000x600 with 1 Axes>"
      ]
     },
     "metadata": {},
     "output_type": "display_data"
    }
   ],
   "source": [
    "plt.figure(figsize=(10, 6))\n",
    "sns.barplot(x=\"PRICE PAID\", y=\"PLAYERS\", hue=\"TEAM\", data=top_5_paid_players, dodge=False, palette=\"magma\")\n",
    "plt.xlabel('Price Paid')\n",
    "plt.ylabel('Players')\n",
    "plt.title('Top 5 Players by Price Paid')\n",
    "plt.show()"
   ]
  },
  {
   "cell_type": "code",
   "execution_count": 9,
   "id": "ff85d8f9-b4d4-4ddf-9c32-a752c080c4bb",
   "metadata": {
    "tags": []
   },
   "outputs": [],
   "source": [
    "player_type_counts = df_players['TYPE'].value_counts()"
   ]
  },
  {
   "cell_type": "code",
   "execution_count": 10,
   "id": "4e13c4cf-50ff-49bc-83cf-a4c03638f7c7",
   "metadata": {
    "tags": []
   },
   "outputs": [
    {
     "name": "stdout",
     "output_type": "stream",
     "text": [
      "Counts of different types of players:\n",
      "Bowler           26\n",
      "All-Rounder      25\n",
      "Batter           13\n",
      "Wicket-Keeper     8\n",
      "Name: TYPE, dtype: int64\n"
     ]
    }
   ],
   "source": [
    "print(\"Counts of different types of players:\")\n",
    "print(player_type_counts)"
   ]
  },
  {
   "cell_type": "code",
   "execution_count": 11,
   "id": "40e5df51-6b78-4301-b4e7-c7936ef08387",
   "metadata": {
    "tags": []
   },
   "outputs": [],
   "source": [
    "nationality_type = df_players['NATIONALITY'].value_counts()"
   ]
  },
  {
   "cell_type": "code",
   "execution_count": 12,
   "id": "be3b2512-99db-4de5-b505-c86e17ca5ea1",
   "metadata": {
    "tags": []
   },
   "outputs": [
    {
     "name": "stdout",
     "output_type": "stream",
     "text": [
      "Counts of players by their nationality:\n",
      "Indian      42\n",
      "Overseas    30\n",
      "Name: NATIONALITY, dtype: int64\n"
     ]
    }
   ],
   "source": [
    "print(\"Counts of players by their nationality:\")\n",
    "print(nationality_type)"
   ]
  },
  {
   "cell_type": "code",
   "execution_count": 13,
   "id": "21126acc-f252-4b6e-8aae-46849a7960e4",
   "metadata": {
    "tags": []
   },
   "outputs": [
    {
     "name": "stdout",
     "output_type": "stream",
     "text": [
      "Top 3 paid batsmen:\n",
      "          PLAYERS NATIONALITY    TYPE  PRICE PAID TEAM\n",
      "3    Sameer Rizvi      Indian  Batter    84000000  CSK\n",
      "52  Rilee Rossouw    Overseas  Batter    80000000   PK\n",
      "56  Rovman Powell    Overseas  Batter    74000000   RR\n"
     ]
    }
   ],
   "source": [
    "#Top 3 batsmen by price\n",
    "batsmen_df = df_players[df_players['TYPE'] == 'Batter']\n",
    "\n",
    "top_paid_batsmen = batsmen_df.sort_values(by='PRICE PAID', ascending=False).head(3)\n",
    "\n",
    "print(\"Top 3 paid batsmen:\")\n",
    "print(top_paid_batsmen)"
   ]
  },
  {
   "cell_type": "code",
   "execution_count": 14,
   "id": "9344fcb2-7466-4fe9-8487-fe80704f4f2b",
   "metadata": {
    "tags": []
   },
   "outputs": [
    {
     "data": {
      "image/png": "[encoded data removed]",
      "text/plain": [
       "<Figure size 1000x600 with 1 Axes>"
      ]
     },
     "metadata": {},
     "output_type": "display_data"
    }
   ],
   "source": [
    "team_colors = {\"CSK\": \"yellow\", \"PK\": \"red\", \"RR\": \"blue\"}\n",
    "plt.figure(figsize=(10, 6))\n",
    "sns.barplot(x='PRICE PAID', y='PLAYERS', data=top_paid_batsmen, hue='TEAM', dodge=False, palette=team_colors)\n",
    "plt.xlabel('Price Paid')\n",
    "plt.ylabel('Bowler')\n",
    "plt.title('Top 3 Paid Batsmen')\n",
    "plt.legend(title='Team', loc='lower right')\n",
    "plt.show()"
   ]
  },
  {
   "cell_type": "code",
   "execution_count": 15,
   "id": "647ebde5-712a-4fa1-82fa-634d8c592ce1",
   "metadata": {
    "tags": []
   },
   "outputs": [
    {
     "name": "stdout",
     "output_type": "stream",
     "text": [
      "Top 3 paid bowler:\n",
      "            PLAYERS NATIONALITY    TYPE  PRICE PAID TEAM\n",
      "27   Mitchell Starc    Overseas  Bowler   247500000  KKR\n",
      "63   Alzarri Joseph    Overseas  Bowler   115000000  RCB\n",
      "16  Spencer Johnson    Overseas  Bowler   100000000   GT\n"
     ]
    }
   ],
   "source": [
    "#Top 3 bowler by price\n",
    "bowler_df = df_players[df_players['TYPE'] == 'Bowler']\n",
    "\n",
    "top_paid_bowler = bowler_df.sort_values(by='PRICE PAID', ascending=False).head(3)\n",
    "\n",
    "print(\"Top 3 paid bowler:\")\n",
    "print(top_paid_bowler)"
   ]
  },
  {
   "cell_type": "code",
   "execution_count": 16,
   "id": "48c69bc5-8a9d-499e-b32c-8ca6e26a3791",
   "metadata": {
    "tags": []
   },
   "outputs": [
    {
     "data": {
      "image/png": "[encoded data removed]",
      "text/plain": [
       "<Figure size 1000x600 with 1 Axes>"
      ]
     },
     "metadata": {},
     "output_type": "display_data"
    }
   ],
   "source": [
    "team_colors = {\"KKR\": \"purple\", \"RCB\": \"red\", \"GT\": \"grey\"}\n",
    "plt.figure(figsize=(10, 6))\n",
    "sns.barplot(x='PRICE PAID', y='PLAYERS', data=top_paid_bowler, hue='TEAM', dodge=False, palette=team_colors)\n",
    "plt.xlabel('Price Paid')\n",
    "plt.ylabel('Bowler')\n",
    "plt.title('Top 3 Paid Bowler')\n",
    "plt.legend(title='Team', loc='lower right')\n",
    "plt.show()"
   ]
  },
  {
   "cell_type": "code",
   "execution_count": 17,
   "id": "b9e4b011-6cd6-48ec-a839-b9a125e9d5bd",
   "metadata": {
    "tags": []
   },
   "outputs": [
    {
     "name": "stdout",
     "output_type": "stream",
     "text": [
      "Top 3 paid All Rounders:\n",
      "           PLAYERS NATIONALITY         TYPE  PRICE PAID TEAM\n",
      "70     Pat Cummins    Overseas  All-Rounder   205000000   SH\n",
      "2   Daryl Mitchell    Overseas  All-Rounder   140000000  CSK\n",
      "54   Harshal Patel      Indian  All-Rounder   117500000   PK\n"
     ]
    }
   ],
   "source": [
    "#Top 3 all_rounder by price\n",
    "AllRounder_df = df_players[df_players['TYPE'] == 'All-Rounder']\n",
    "\n",
    "top_paid_All_Rounders = AllRounder_df.sort_values(by='PRICE PAID', ascending=False).head(3)\n",
    "\n",
    "print(\"Top 3 paid All Rounders:\")\n",
    "print(top_paid_All_Rounders)"
   ]
  },
  {
   "cell_type": "code",
   "execution_count": 18,
   "id": "33dcffad-890f-40b6-8748-75c6c5eae866",
   "metadata": {
    "tags": []
   },
   "outputs": [
    {
     "data": {
      "image/png": "[encoded data removed]",
      "text/plain": [
       "<Figure size 1000x600 with 1 Axes>"
      ]
     },
     "metadata": {},
     "output_type": "display_data"
    }
   ],
   "source": [
    "team_colors = {\"SH\": \"Orange\", \"CSK\": \"Yellow\", \"PK\": \"red\"}\n",
    "plt.figure(figsize=(10, 6))\n",
    "sns.barplot(x='PRICE PAID', y='PLAYERS', data=top_paid_All_Rounders, hue='TEAM', dodge=False, palette=team_colors)\n",
    "plt.xlabel('Price Paid')\n",
    "plt.ylabel('All Rounders')\n",
    "plt.title('Top 3 Paid All Rounders')\n",
    "plt.legend(title='Team', loc='lower right')\n",
    "plt.show()"
   ]
  },
  {
   "cell_type": "code",
   "execution_count": 19,
   "id": "3e00d890-19c8-4556-b492-ae74912bda88",
   "metadata": {
    "tags": []
   },
   "outputs": [
    {
     "name": "stdout",
     "output_type": "stream",
     "text": [
      "Average price of players across all categories of player types:\n",
      "TYPE\n",
      "All-Rounder     31540000.00\n",
      "Batter          34000000.00\n",
      "Bowler          36173076.92\n",
      "Wicket-Keeper   16687500.00\n",
      "Name: PRICE PAID, dtype: float64\n"
     ]
    }
   ],
   "source": [
    "#Average Player Price By Types\n",
    "pd.set_option('display.float_format', lambda x: '%.2f' % x)\n",
    "average_price_by_type = df_players.groupby('TYPE')['PRICE PAID'].mean()\n",
    "\n",
    "print(\"Average price of players across all categories of player types:\")\n",
    "print(average_price_by_type)"
   ]
  },
  {
   "cell_type": "code",
   "execution_count": 20,
   "id": "062fa0ee-59b5-4969-8f9e-e3f7327d7be2",
   "metadata": {
    "tags": []
   },
   "outputs": [],
   "source": [
    "df_unsold_players = pd.read_csv('D:\\\\Datasets and projects\\\\IPL 2024 dataset\\\\UNSOLD_PLAYERS.csv')"
   ]
  },
  {
   "cell_type": "code",
   "execution_count": 21,
   "id": "d1eebb49-7338-4ce4-92ec-757ce2727636",
   "metadata": {
    "tags": []
   },
   "outputs": [
    {
     "data": {
      "text/html": [
       "<div>\n",
       "<style scoped>\n",
       "    .dataframe tbody tr th:only-of-type {\n",
       "        vertical-align: middle;\n",
       "    }\n",
       "\n",
       "    .dataframe tbody tr th {\n",
       "        vertical-align: top;\n",
       "    }\n",
       "\n",
       "    .dataframe thead th {\n",
       "        text-align: right;\n",
       "    }\n",
       "</style>\n",
       "<table border=\"1\" class=\"dataframe\">\n",
       "  <thead>\n",
       "    <tr style=\"text-align: right;\">\n",
       "      <th></th>\n",
       "      <th>PLAYER</th>\n",
       "      <th>NATIONALITY</th>\n",
       "      <th>TYPE</th>\n",
       "      <th>BASE PRICE</th>\n",
       "    </tr>\n",
       "  </thead>\n",
       "  <tbody>\n",
       "    <tr>\n",
       "      <th>0</th>\n",
       "      <td>Priyansh Arya</td>\n",
       "      <td>Indian</td>\n",
       "      <td>Batter</td>\n",
       "      <td>2000000</td>\n",
       "    </tr>\n",
       "    <tr>\n",
       "      <th>1</th>\n",
       "      <td>Rohan Kunnummal</td>\n",
       "      <td>Indian</td>\n",
       "      <td>Batter</td>\n",
       "      <td>2000000</td>\n",
       "    </tr>\n",
       "    <tr>\n",
       "      <th>2</th>\n",
       "      <td>Manan Vohra</td>\n",
       "      <td>Indian</td>\n",
       "      <td>Batter</td>\n",
       "      <td>2000000</td>\n",
       "    </tr>\n",
       "    <tr>\n",
       "      <th>3</th>\n",
       "      <td>Raj Angad Bawa</td>\n",
       "      <td>Indian</td>\n",
       "      <td>All-Rounder</td>\n",
       "      <td>2000000</td>\n",
       "    </tr>\n",
       "    <tr>\n",
       "      <th>4</th>\n",
       "      <td>Sarfaraz Khan</td>\n",
       "      <td>Indian</td>\n",
       "      <td>All-Rounder</td>\n",
       "      <td>2000000</td>\n",
       "    </tr>\n",
       "  </tbody>\n",
       "</table>\n",
       "</div>"
      ],
      "text/plain": [
       "            PLAYER NATIONALITY         TYPE  BASE PRICE\n",
       "0    Priyansh Arya      Indian       Batter     2000000\n",
       "1  Rohan Kunnummal      Indian       Batter     2000000\n",
       "2      Manan Vohra      Indian       Batter     2000000\n",
       "3   Raj Angad Bawa      Indian  All-Rounder     2000000\n",
       "4    Sarfaraz Khan      Indian  All-Rounder     2000000"
      ]
     },
     "execution_count": 21,
     "metadata": {},
     "output_type": "execute_result"
    }
   ],
   "source": [
    "df_unsold_players.head()"
   ]
  },
  {
   "cell_type": "code",
   "execution_count": 22,
   "id": "bd8e1e59-bd35-4de3-b468-4f6cf43d6f12",
   "metadata": {
    "tags": []
   },
   "outputs": [
    {
     "data": {
      "text/html": [
       "<div>\n",
       "<style scoped>\n",
       "    .dataframe tbody tr th:only-of-type {\n",
       "        vertical-align: middle;\n",
       "    }\n",
       "\n",
       "    .dataframe tbody tr th {\n",
       "        vertical-align: top;\n",
       "    }\n",
       "\n",
       "    .dataframe thead th {\n",
       "        text-align: right;\n",
       "    }\n",
       "</style>\n",
       "<table border=\"1\" class=\"dataframe\">\n",
       "  <thead>\n",
       "    <tr style=\"text-align: right;\">\n",
       "      <th></th>\n",
       "      <th>PLAYER</th>\n",
       "      <th>NATIONALITY</th>\n",
       "      <th>TYPE</th>\n",
       "      <th>BASE PRICE</th>\n",
       "    </tr>\n",
       "  </thead>\n",
       "  <tbody>\n",
       "    <tr>\n",
       "      <th>255</th>\n",
       "      <td>Kamlesh Nagarkoti</td>\n",
       "      <td>Indian</td>\n",
       "      <td>All-Rounder</td>\n",
       "      <td>3000000</td>\n",
       "    </tr>\n",
       "    <tr>\n",
       "      <th>256</th>\n",
       "      <td>Basil Thampi</td>\n",
       "      <td>Indian</td>\n",
       "      <td>Bowler</td>\n",
       "      <td>3000000</td>\n",
       "    </tr>\n",
       "    <tr>\n",
       "      <th>257</th>\n",
       "      <td>Lalit Yadav</td>\n",
       "      <td>Indian</td>\n",
       "      <td>Bowler</td>\n",
       "      <td>3000000</td>\n",
       "    </tr>\n",
       "    <tr>\n",
       "      <th>258</th>\n",
       "      <td>S Midhun</td>\n",
       "      <td>Indian</td>\n",
       "      <td>Bowler</td>\n",
       "      <td>3000000</td>\n",
       "    </tr>\n",
       "    <tr>\n",
       "      <th>259</th>\n",
       "      <td>Izharulhuq Naveed</td>\n",
       "      <td>Overseas</td>\n",
       "      <td>Bowler</td>\n",
       "      <td>3000000</td>\n",
       "    </tr>\n",
       "  </tbody>\n",
       "</table>\n",
       "</div>"
      ],
      "text/plain": [
       "                PLAYER NATIONALITY         TYPE  BASE PRICE\n",
       "255  Kamlesh Nagarkoti      Indian  All-Rounder     3000000\n",
       "256       Basil Thampi      Indian       Bowler     3000000\n",
       "257        Lalit Yadav      Indian       Bowler     3000000\n",
       "258           S Midhun      Indian       Bowler     3000000\n",
       "259  Izharulhuq Naveed    Overseas       Bowler     3000000"
      ]
     },
     "execution_count": 22,
     "metadata": {},
     "output_type": "execute_result"
    }
   ],
   "source": [
    "df_unsold_players.tail()"
   ]
  },
  {
   "cell_type": "code",
   "execution_count": 23,
   "id": "9c2b13fa-9842-449d-9b00-f681f401ce93",
   "metadata": {
    "tags": []
   },
   "outputs": [
    {
     "data": {
      "text/html": [
       "<div>\n",
       "<style scoped>\n",
       "    .dataframe tbody tr th:only-of-type {\n",
       "        vertical-align: middle;\n",
       "    }\n",
       "\n",
       "    .dataframe tbody tr th {\n",
       "        vertical-align: top;\n",
       "    }\n",
       "\n",
       "    .dataframe thead th {\n",
       "        text-align: right;\n",
       "    }\n",
       "</style>\n",
       "<table border=\"1\" class=\"dataframe\">\n",
       "  <thead>\n",
       "    <tr style=\"text-align: right;\">\n",
       "      <th></th>\n",
       "      <th>BASE PRICE</th>\n",
       "    </tr>\n",
       "  </thead>\n",
       "  <tbody>\n",
       "    <tr>\n",
       "      <th>count</th>\n",
       "      <td>260.00</td>\n",
       "    </tr>\n",
       "    <tr>\n",
       "      <th>mean</th>\n",
       "      <td>4025000.00</td>\n",
       "    </tr>\n",
       "    <tr>\n",
       "      <th>std</th>\n",
       "      <td>4145559.80</td>\n",
       "    </tr>\n",
       "    <tr>\n",
       "      <th>min</th>\n",
       "      <td>2000000.00</td>\n",
       "    </tr>\n",
       "    <tr>\n",
       "      <th>25%</th>\n",
       "      <td>2000000.00</td>\n",
       "    </tr>\n",
       "    <tr>\n",
       "      <th>50%</th>\n",
       "      <td>2000000.00</td>\n",
       "    </tr>\n",
       "    <tr>\n",
       "      <th>75%</th>\n",
       "      <td>5000000.00</td>\n",
       "    </tr>\n",
       "    <tr>\n",
       "      <th>max</th>\n",
       "      <td>20000000.00</td>\n",
       "    </tr>\n",
       "  </tbody>\n",
       "</table>\n",
       "</div>"
      ],
      "text/plain": [
       "       BASE PRICE\n",
       "count      260.00\n",
       "mean   4025000.00\n",
       "std    4145559.80\n",
       "min    2000000.00\n",
       "25%    2000000.00\n",
       "50%    2000000.00\n",
       "75%    5000000.00\n",
       "max   20000000.00"
      ]
     },
     "execution_count": 23,
     "metadata": {},
     "output_type": "execute_result"
    }
   ],
   "source": [
    "df_unsold_players.describe()"
   ]
  },
  {
   "cell_type": "code",
   "execution_count": 24,
   "id": "38c5fcf6-58c9-48d4-9080-9c9d4bb56e26",
   "metadata": {
    "tags": []
   },
   "outputs": [
    {
     "name": "stdout",
     "output_type": "stream",
     "text": [
      "Unsold players count by type:\n",
      "TYPE\n",
      "All-Rounder       89\n",
      "Batter            40\n",
      "Bowler           102\n",
      "Wicket-Keeper     29\n",
      "dtype: int64\n"
     ]
    }
   ],
   "source": [
    "unsold_players_by_type_count = df_unsold_players.groupby('TYPE').size()\n",
    "\n",
    "print(\"Unsold players count by type:\")\n",
    "print(unsold_players_by_type_count)"
   ]
  },
  {
   "cell_type": "code",
   "execution_count": 25,
   "id": "07e7c6aa-7a2a-4904-838f-995ca37d4bac",
   "metadata": {
    "tags": []
   },
   "outputs": [
    {
     "name": "stdout",
     "output_type": "stream",
     "text": [
      "Unsold players count by Nationality:\n",
      "NATIONALITY\n",
      "Indian      174\n",
      "Overseas     86\n",
      "dtype: int64\n"
     ]
    }
   ],
   "source": [
    "unsold_players_by_nationality = df_unsold_players.groupby('NATIONALITY').size()\n",
    "\n",
    "print(\"Unsold players count by Nationality:\")\n",
    "print(unsold_players_by_nationality)"
   ]
  },
  {
   "cell_type": "code",
   "execution_count": 28,
   "id": "a5ab30bb-3d89-4685-95dd-54243a023366",
   "metadata": {
    "tags": []
   },
   "outputs": [
    {
     "name": "stdout",
     "output_type": "stream",
     "text": [
      "Total count of players brought by teams:\n",
      "TEAM\n",
      "CSK     6\n",
      "DC      9\n",
      "GT      8\n",
      "KKR    10\n",
      "LSG     6\n",
      "MI      8\n",
      "PK      8\n",
      "RCB     6\n",
      "RR      5\n",
      "SH      6\n",
      "Name: PLAYERS, dtype: int64\n"
     ]
    }
   ],
   "source": [
    "#No. of players bought by individual teams\n",
    "players_count_by_team = df_players.groupby('TEAM')['PLAYERS'].count()\n",
    "\n",
    "# Displaying the total count of players bought by each team\n",
    "print(\"Total count of players brought by teams:\")\n",
    "print(players_count_by_team)"
   ]
  },
  {
   "cell_type": "code",
   "execution_count": 36,
   "id": "b66d9660-3b85-4f74-bc5e-7b07437c4047",
   "metadata": {
    "tags": []
   },
   "outputs": [
    {
     "data": {
      "image/png": "[encoded data removed]",
      "text/plain": [
       "<Figure size 1000x600 with 1 Axes>"
      ]
     },
     "metadata": {},
     "output_type": "display_data"
    }
   ],
   "source": [
    "team_colors = {\"RR\": \"Blue\",\n",
    "               \"LSG\": \"Green\",\n",
    "               \"MI\": \"Navy\",\n",
    "               \"RCB\": \"Red\",\n",
    "               \"KKR\": \"Purple\",\n",
    "               \"DC\": \"Gray\",\n",
    "               \"SH\": \"Orange\",\n",
    "               \"CSK\": \"Yellow\",\n",
    "               \"PK\": \"Pink\",\n",
    "               \"GT\": \"Gray\"}\n",
    "plt.figure(figsize=(10, 6))\n",
    "sns.barplot(x=players_count_by_team.index, y=players_count_by_team.values, palette=team_colors)\n",
    "plt.xlabel('Team')\n",
    "plt.ylabel('Number of Players')\n",
    "plt.title('Total Count of Players Bought by Each Team')\n",
    "plt.xticks(rotation=45)  # Rotate x-axis labels for better readability\n",
    "\n",
    "plt.tight_layout()\n",
    "plt.show()"
   ]
  },
  {
   "cell_type": "code",
   "execution_count": 39,
   "id": "0a398703-d6ab-45ab-bcfb-cc891bcac825",
   "metadata": {
    "tags": []
   },
   "outputs": [
    {
     "name": "stdout",
     "output_type": "stream",
     "text": [
      "Total amount spent by each team in crores:\n",
      "TEAM\n",
      "KKR   31.35\n",
      "SH    30.80\n",
      "CSK   30.40\n",
      "GT    30.30\n",
      "PK    24.95\n",
      "RCB   20.40\n",
      "DC    19.05\n",
      "MI    16.70\n",
      "RR    14.30\n",
      "LSG   12.20\n",
      "Name: PRICE PAID, dtype: float64\n"
     ]
    }
   ],
   "source": [
    "total_amount_spent_by_team = df_players.groupby('TEAM')['PRICE PAID'].sum().sort_values(ascending = False) \n",
    "\n",
    "total_amount_spent_by_team_crores = total_amount_spent_by_team / 1e7\n",
    "\n",
    "print(\"Total amount spent by each team in crores:\")\n",
    "print(total_amount_spent_by_team_crores)"
   ]
  },
  {
   "cell_type": "code",
   "execution_count": 40,
   "id": "df9798dd-0d55-4fa8-ba04-40258286e840",
   "metadata": {
    "tags": []
   },
   "outputs": [
    {
     "data": {
      "image/png": "[encoded data removed]",
      "text/plain": [
       "<Figure size 1000x600 with 1 Axes>"
      ]
     },
     "metadata": {},
     "output_type": "display_data"
    }
   ],
   "source": [
    "team_colors = {\"RR\": \"Blue\",\n",
    "               \"LSG\": \"Green\",\n",
    "               \"MI\": \"Navy\",\n",
    "               \"RCB\": \"Red\",\n",
    "               \"KKR\": \"Purple\",\n",
    "               \"DC\": \"Gray\",\n",
    "               \"SH\": \"Orange\",\n",
    "               \"CSK\": \"Yellow\",\n",
    "               \"PK\": \"Pink\",\n",
    "               \"GT\": \"Gray\"}\n",
    "plt.figure(figsize=(10, 6))\n",
    "sns.barplot(x=total_amount_spent_by_team_crores.values, y=total_amount_spent_by_team_crores.index, palette=\"viridis\")\n",
    "\n",
    "plt.xlabel('Amount Spent (Crores)')\n",
    "plt.ylabel('Team')\n",
    "plt.title('Total Amount Spent by Each Team (Crores)')\n",
    "\n",
    "# Display the plot\n",
    "plt.tight_layout()\n",
    "plt.show()"
   ]
  },
  {
   "cell_type": "code",
   "execution_count": null,
   "id": "5aa4d4fc-7251-4e87-ab07-bcddcd2a3929",
   "metadata": {},
   "outputs": [],
   "source": []
  }
 ],
 "metadata": {
  "kernelspec": {
   "display_name": "Python 3 (ipykernel)",
   "language": "python",
   "name": "python3"
  },
  "language_info": {
   "codemirror_mode": {
    "name": "ipython",
    "version": 3
   },
   "file_extension": ".py",
   "mimetype": "text/x-python",
   "name": "python",
   "nbconvert_exporter": "python",
   "pygments_lexer": "ipython3",
   "version": "3.11.4"
  }
 },
 "nbformat": 4,
 "nbformat_minor": 5
}
